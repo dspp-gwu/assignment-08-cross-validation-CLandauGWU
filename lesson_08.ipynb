{
 "cells": [
  {
   "cell_type": "markdown",
   "metadata": {},
   "source": [
    "# Lesson 8: Cross-validation\n",
    "\n",
    "So far, we've learned about splitting our data into training and testing sets to validate our models. This helps ensure that the model we create on one sample performs well on another sample we want to predict. \n",
    "\n",
    "However, we don't have to use just TWO samples to train and test our models. Instead, we can split our data up into MULTIPLE samples to train and test on multiple segments of the data. This is called CROSS-VALIDATION. This allows us to ensure that our model predicts outcomes over a wider range of circumstances. \n",
    "\n",
    "Let's begin by importing our packages."
   ]
  },
  {
   "cell_type": "code",
   "execution_count": null,
   "metadata": {},
   "outputs": [],
   "source": [
    "import os\n",
    "#os.chdir(your_working_directory)"
   ]
  },
  {
   "cell_type": "markdown",
   "metadata": {},
   "source": [
    "Today we'll be looking at 311 service requests for rodent inspection and abatement aggregated at the Census block level. The data set is already prepared for you and available in the same folder as this assignment. Census blocks are a good geographic level to analyze rodent infestations because they are drawn along natural and human-made boundaries, like rivers and roads, that rats tend not to cross. \n",
    "\n",
    "We will look at the 'activity' variable, which indicates whether inspectors found rat burrows during an inspection (1) or not (0). Here we are looking only at inpsections in 2016. About 43 percent on inspections in 2016 led to inspectors finding and treating rat burrows, as you can see below."
   ]
  },
  {
   "cell_type": "code",
   "execution_count": null,
   "metadata": {
    "collapsed": true
   },
   "outputs": [],
   "source": [
    "data = pd.read_csv('rat_data_2016.csv')"
   ]
  },
  {
   "cell_type": "code",
   "execution_count": null,
   "metadata": {},
   "outputs": [],
   "source": [
    "data.columns"
   ]
  },
  {
   "cell_type": "code",
   "execution_count": null,
   "metadata": {},
   "outputs": [],
   "source": [
    "data.describe().T"
   ]
  },
  {
   "cell_type": "markdown",
   "metadata": {},
   "source": [
    "Recall from last week that, when we do predictive analysis, we usually are not interested in the relationship between two different variables as we are when we do traditional hypothesis testing. Instead, we're interested in training a model that generates predictions that best fit our target population. Therefore, when we are doing any kind of validation, including cross-validation, it is important for us to choose the metric by which we will evaluate the performance of our models. \n",
    "\n",
    "For this model, we will predict the locations of requests for rodent inspection and abatement in the District of Columbia. When we select a validation metric, it's important for us to think about what we want to optimize. For example, do we want to make sure that our top predictions accurately identify places with rodent infestations, so we don't send our inspectors on a wild goose chase? Then we may to look at the models precision, or what proportion of its positive predictions turn out to be positive. Or do we want to make sure we don't miss any infestations? If so, we may want to look at recall, or the proportion of positive cases that are correctly categorized by the model. If we care a lot about how the model ranks our observations, then we may want to look at the area under the ROC curve, or ROC-AUC, while if we care more about how well the model fits the data, or its \"calibration,\" we may want to look at Brier score or logarithmic loss (log-loss).\n",
    "\n",
    "In the case of rodent inspections, we most likely want to make sure that we send our inspectors to places where they are most likely to find rats and to avoid sending them on wild goose [rat] chases. Therefore, we will optimize for precision, which we will call from the metrics library in scikit-learn. \n",
    "\n",
    "The metrics library in scikit-learn provides a number of different options. You should take some time to look at the different metrics that are available to you and consider which ones are most appropriate for your own research\n"
   ]
  },
  {
   "cell_type": "code",
   "execution_count": null,
   "metadata": {
    "collapsed": true
   },
   "outputs": [],
   "source": [
    "from sklearn.metrics import precision_score"
   ]
  },
  {
   "cell_type": "markdown",
   "metadata": {},
   "source": [
    "The next important decision we need to make when cross-validating our models is how we will define our \"folds.\" Folds are the independent subsamples on which we train and test the data. Keep in mind that it is important that our folds are INDEPENDENT, which means we must guarantee that there's no overlap between our training and test set (i.e., no observation is in both the training and test set). Independence can also have other implications for how we slice the data, which we will discuss as we progress through this lesson.\n",
    "\n",
    "One of the most common approaches to cross-validation is to make random splits in the data. This is often referred to as k-fold cross-validation, in which the only thing we define is the number of folds (k) that want to split our sample into. Here, I'll use the KFold function from scikit-learn's model_selection library. Let's begin by importing the library and then taking a look at how it splits our data."
   ]
  },
  {
   "cell_type": "code",
   "execution_count": null,
   "metadata": {
    "collapsed": true
   },
   "outputs": [],
   "source": [
    "from sklearn.model_selection import KFold"
   ]
  },
  {
   "cell_type": "markdown",
   "metadata": {},
   "source": [
    "KFold divides our data into a pre-specified number of (approximately) equally-sized folds so that each observation is in the test set once. When we specify that shuffle=True, KFold first shuffles our data into a random order to ensure that the observations are randomly selected. By selecting a random_state, we can ensure that KFold selects observations the same way each time. \n",
    "\n",
    "While there are other functions in the model_selection library that will do much of this work for us, KFold will allow us to look at what's going on in the background of our cross-validation process. Let's begin by just looking at how KFold splits our data. Here we split our data into 10 folds each with 10 percent of the data (.1)."
   ]
  },
  {
   "cell_type": "code",
   "execution_count": null,
   "metadata": {},
   "outputs": [],
   "source": [
    "cv = KFold(n_splits=10, shuffle=True, random_state=0)\n",
    "for train_index, test_index in cv.split(data):\n",
    "    print(\"TRAIN:\", train_index, \"TEST:\", test_index)"
   ]
  },
  {
   "cell_type": "markdown",
   "metadata": {},
   "source": [
    "You can see that ShuffleSplit has selected a random set of observations from the index of our data set for each fold of our cross-validation. Let's look at the size of our training and test set for each fold."
   ]
  },
  {
   "cell_type": "code",
   "execution_count": null,
   "metadata": {},
   "outputs": [],
   "source": [
    "cv = KFold(n_splits=10, shuffle=True, random_state=0)\n",
    "for train_index, test_index in cv.split(data):\n",
    "    print(\"TRAIN:\", len(train_index), \"TEST:\", len(test_index))"
   ]
  },
  {
   "cell_type": "markdown",
   "metadata": {},
   "source": [
    "Now let's try using KFold to train and test our model on 10 different subsets of our data. Below we set our cross-validator as 'cv'. We then loop through the various splits in our data that cv creates and use it to make our training and test sets. We then use our training set to fit a Logistic Regression model and generate predictions from our test set, which we compare to the actual outcomes we observed."
   ]
  },
  {
   "cell_type": "code",
   "execution_count": null,
   "metadata": {},
   "outputs": [],
   "source": [
    "## Define function\n",
    "cv = KFold(n_splits=10, shuffle=True, random_state=0)\n",
    "\n",
    "## Create for-loop\n",
    "for train_index, test_index in cv.split(data):\n",
    "\n",
    "    ## Define training and test sets\n",
    "    X_train = data.loc[train_index].drop(['activity', 'month', 'WARD'], axis=1)\n",
    "    y_train = data.loc[train_index]['activity']\n",
    "    X_test = data.loc[test_index].drop(['activity', 'month', 'WARD'], axis=1)\n",
    "    y_test = data.loc[test_index]['activity']\n",
    "        \n",
    "    ## Fit model\n",
    "    clf = LogisticRegression()\n",
    "    clf.fit(X_train, y_train)\n",
    "\n",
    "    ## Generate predictions\n",
    "    predicted = clf.predict(X_test)\n",
    "    \n",
    "    ## Compare to actual outcomes and return precision\n",
    "    print('Precision: '+str(100 * round(precision_score(y_test, predicted),3)))"
   ]
  },
  {
   "cell_type": "markdown",
   "metadata": {
    "collapsed": true
   },
   "source": [
    "We can see that, for the most part, about 50 to 60 percent of the inspections our model predicts will lead our inspectors to rat burrows actually do. This is a modest improvement over our inspectors' current performance in the field. Based on these results, if we used our models to determine which locations our inspectors go to in the field, we'd probably see a 10 to 20 point increase in their likelihood of finding rat burrows.\n",
    "\n",
    "## Exercise 1\n",
    "\n",
    "Try running the k-fold cross-validation a few times with the same random state. Then try running it a few times with different random states. How do the results change?"
   ]
  },
  {
   "cell_type": "code",
   "execution_count": null,
   "metadata": {
    "collapsed": true
   },
   "outputs": [],
   "source": [
    "import random"
   ]
  },
  {
   "cell_type": "code",
   "execution_count": null,
   "metadata": {},
   "outputs": [],
   "source": [
    "i = 0\n",
    "## Create for-loop\n",
    "while i < 3: \n",
    "    i += 1\n",
    "    ## Define function\n",
    "    cv = KFold(n_splits=10, shuffle=True, random_state=random.randint(0, 1000))\n",
    "    print('state', i)\n",
    "    for train_index, test_index in cv.split(data):\n",
    "\n",
    "        ## Define training and test sets\n",
    "        X_train = data.loc[train_index].drop(['activity', 'month', 'WARD'], axis=1)\n",
    "        y_train = data.loc[train_index]['activity']\n",
    "        X_test = data.loc[test_index].drop(['activity', 'month', 'WARD'], axis=1)\n",
    "        y_test = data.loc[test_index]['activity']\n",
    "\n",
    "        ## Fit model\n",
    "        clf = LogisticRegression()\n",
    "        clf.fit(X_train, y_train)\n",
    "\n",
    "        ## Generate predictions\n",
    "        predicted = clf.predict(X_test)\n",
    "\n",
    "        ## Compare to actual outcomes and return precision\n",
    "        \n",
    "        print('Precision: '+str(100 * round(precision_score(y_test, predicted),3)))\n",
    "        "
   ]
  },
  {
   "cell_type": "markdown",
   "metadata": {},
   "source": [
    "It's important to point out here that, because we have TIME SERIES data, the same Census blocks may be appearing in our training AND our test sets. This is a challenge to ensuring that our training and test samples are INDEPENDENT. While Rodent Control does not inspect the same blocks every month, some of the same blocks may be re-inspected from month to month depending on where 311 requests are coming from. \n",
    "\n",
    "However, this also affords us an opportunity. More than likely, when we make predictions about which inspections will lead our inspectors to rat burrows, we are interested in predicting FUTURE inspections with observations from PAST inspections. In this case, cross-validating over time can be a very good way of looking at how well our models are performing. \n",
    "\n",
    "Cross-validating over time requires more than just splitting by month. Rather, we will use observations from each month as a test set and train our models on all PRIOR months. Which we do below."
   ]
  },
  {
   "cell_type": "markdown",
   "metadata": {},
   "source": [
    "## Cross-validation by Month"
   ]
  },
  {
   "cell_type": "markdown",
   "metadata": {},
   "source": [
    "Let's begin by seeing what our cross-validation sets look like. Below, we loop through each of the sets to see which months end up in our training and test sets. You can see that as we move from month to month, we have more and more past observations in our training set."
   ]
  },
  {
   "cell_type": "code",
   "execution_count": null,
   "metadata": {},
   "outputs": [],
   "source": [
    "months = np.sort(data.month.unique())\n",
    "\n",
    "for month in range(2,13):\n",
    "    test = data[data.month==month]\n",
    "    train = data[(data.month < month)]\n",
    "\n",
    "    print('Test Month: '+str(test.month.unique()), 'Training Months: '+str(train.month.unique()))"
   ]
  },
  {
   "cell_type": "code",
   "execution_count": null,
   "metadata": {},
   "outputs": [],
   "source": [
    "months = np.sort(data.month.unique())\n",
    "\n",
    "for month in range(2,13):\n",
    "\n",
    "    test = data[data.month==month]\n",
    "    train = data[(data.month < month)]\n",
    "    X_test = test.drop(['activity', 'month', 'WARD'], axis=1)\n",
    "    y_test = test['activity']\n",
    "    X_train = test.drop(['activity', 'month', 'WARD'], axis=1)\n",
    "    y_train = test['activity']\n",
    "        \n",
    "    clf = LogisticRegression()\n",
    "    clf.fit(X_train, y_train)\n",
    "    predicted = clf.predict(X_test)\n",
    "    print('Precision for Month '+str(month)+': '+str(100*round(precision_score(y_test, predicted),3)))"
   ]
  },
  {
   "cell_type": "markdown",
   "metadata": {},
   "source": [
    "Our model seems to be performing even better when we cross-validate over months, possibly because we're structuring the cross-validation such that inspections in some of the same blocks appear consistently over time. \n",
    "\n",
    "## Exercise 2\n",
    "\n",
    "Try re-creating this cross-validation, but with the training set restricted to only the 3 months prior to the test set. Now do the same with the last 1 and 2 months. Do the results change?"
   ]
  },
  {
   "cell_type": "code",
   "execution_count": null,
   "metadata": {},
   "outputs": [],
   "source": [
    "months = np.sort(data.month.unique())\n",
    "\n",
    "for month in range(2,13):\n",
    "\n",
    "    test = data[data.month==month]\n",
    "    train = data[(data.month > (month-3))]\n",
    "    X_test = test.drop(['activity', 'month', 'WARD'], axis=1)\n",
    "    y_test = test['activity']\n",
    "    X_train = test.drop(['activity', 'month', 'WARD'], axis=1)\n",
    "    y_train = test['activity']\n",
    "        \n",
    "    clf = LogisticRegression()\n",
    "    clf.fit(X_train, y_train)\n",
    "    predicted = clf.predict(X_test)\n",
    "    print('Precision for Month '+str(month)+': '+str(100*round(precision_score(y_test, predicted),3)))"
   ]
  },
  {
   "cell_type": "markdown",
   "metadata": {},
   "source": [
    "We may still be concerned about the independence of our training and test sets. In particular, as I've pointed out, the same Census blocks may appear repeatedly in our data over time. In this case, it may be good to cross-validate geographically to make sure that our model is performing well in different parts of the city. In particular, we know that requests for rodent abatement (and rats themselves) are more common in some parts of the city than in others. In particular, rats are more common in the more densely-populated parts of downtown and less common in less densely-populated places like Wards 3, 7, and 8. Therefore, we may be interested in cross-validating by ward. \n",
    "\n",
    "Again, this is as simple as looping through each of the 8 wards, holding out each ward as a test set and training the models on observations from the remaining wards."
   ]
  },
  {
   "cell_type": "markdown",
   "metadata": {},
   "source": [
    "## Cross-validate by Ward"
   ]
  },
  {
   "cell_type": "code",
   "execution_count": null,
   "metadata": {},
   "outputs": [],
   "source": [
    "data.WARD.value_counts().sort_index()"
   ]
  },
  {
   "cell_type": "code",
   "execution_count": null,
   "metadata": {},
   "outputs": [],
   "source": [
    "for ward in np.sort(data.WARD.unique()):\n",
    "\n",
    "    test = data[data.WARD == ward]\n",
    "    train = data[data.WARD != ward]\n",
    "    X_test = test.drop(['activity', 'month', 'WARD'], axis=1)\n",
    "    y_test = test['activity']\n",
    "    X_train = test.drop(['activity', 'month', 'WARD'], axis=1)\n",
    "    y_train = test['activity']\n",
    "        \n",
    "    clf = LogisticRegression()\n",
    "    clf.fit(X_train, y_train)\n",
    "    predicted = clf.predict(X_test)\n",
    "    print('Precision for Ward '+str(ward)+': '+str(100*round(precision_score(y_test, predicted),3)))"
   ]
  },
  {
   "cell_type": "markdown",
   "metadata": {},
   "source": [
    "Here we see that the model performs very well predicting the outcomes of inspections in wards 1 through 4, but less well in wards 5 though 8. In wards 7 and 8 in particular, the model fails to predict any positive cases. This means that our model may be overfit to observations in Wards 1 through 6, and we may want to re-evaluate our approach. \n",
    "\n",
    "## Exercise 3\n",
    "\n",
    "Explore the data and our model and try to come up with some reasons that the model is performing poorly on Wards 7 and 8. Is there a way we can fix the model to perform better on those wards? How might we fix the model?"
   ]
  },
  {
   "cell_type": "code",
   "execution_count": null,
   "metadata": {},
   "outputs": [],
   "source": [
    "for ward in np.sort(data.WARD.unique()):\n",
    "\n",
    "    test = data[data.WARD == ward]\n",
    "    train = data[data.WARD != ward]\n",
    "    X_test = test.drop(['activity', 'month', 'WARD'], axis=1)\n",
    "    y_test = test['activity']\n",
    "    X_train = test.drop(['activity', 'month', 'WARD'], axis=1)\n",
    "    y_train = test['activity']\n",
    "        \n",
    "    clf = LogisticRegression(class_weight=\"balanced\")\n",
    "    clf.fit(X_train, y_train)\n",
    "    predicted = clf.predict(X_test)\n",
    "    print('Precision for Ward '+str(ward)+': '+str(100*round(precision_score(y_test, predicted),3)))"
   ]
  },
  {
   "cell_type": "markdown",
   "metadata": {},
   "source": [
    "## Exercise 4\n",
    "\n",
    "Now try running some cross-validations with the data from your project. What are some different ways you might slice the data you're using for your project? Try them out here. This will be a good way to begin making progress toward your final submission. \n",
    "\n",
    "PLEASE REMEMBER TO SUBMIT THIS HOMEWORK BY CLASS TIME ON THURSDAY."
   ]
  },
  {
   "cell_type": "code",
   "execution_count": 1,
   "metadata": {
    "collapsed": true
   },
   "outputs": [],
   "source": [
    "import pandas as pd\n",
    "import numpy as np\n",
    "import matplotlib.pyplot as plt\n",
    "\n",
    "import geopandas as gpd\n",
    "from shapely.geometry import Point, Polygon\n",
    "\n",
    "from sklearn.linear_model import LogisticRegression\n",
    "from sklearn.ensemble import RandomForestClassifier\n",
    "from sklearn.model_selection import KFold\n",
    "%matplotlib inline"
   ]
  },
  {
   "cell_type": "code",
   "execution_count": 2,
   "metadata": {},
   "outputs": [],
   "source": [
    "df = pd.read_csv('https://opendata.arcgis.com/datasets/aa514416aaf74fdc94748f1e56e7cc8a_0.csv',\n",
    "                 encoding = 'utf-8', low_memory= False)"
   ]
  },
  {
   "cell_type": "code",
   "execution_count": 3,
   "metadata": {},
   "outputs": [
    {
     "data": {
      "text/plain": [
       "Index(['X', 'Y', 'OBJECTID_12', 'SITE_ADDRESS_PK', 'ADDRESS_ID', 'STATUS',\n",
       "       'SSL', 'TYPE_', 'ENTRANCETYPE', 'ADDRNUM', 'ADDRNUMSUFFIX', 'STNAME',\n",
       "       'STREET_TYPE', 'QUADRANT', 'CITY', 'STATE', 'FULLADDRESS', 'SQUARE',\n",
       "       'SUFFIX', 'LOT', 'NATIONALGRID', 'ASSESSMENT_NBHD',\n",
       "       'ASSESSMENT_SUBNBHD', 'CFSA_NAME', 'HOTSPOT', 'CLUSTER_', 'POLDIST',\n",
       "       'ROC', 'PSA', 'SMD', 'CENSUS_TRACT', 'VOTE_PRCNCT', 'WARD', 'ZIPCODE',\n",
       "       'ANC', 'NEWCOMMSELECT06', 'NEWCOMMCANDIDATE', 'CENSUS_BLOCK',\n",
       "       'CENSUS_BLOCKGROUP', 'FOCUS_IMPROVEMENT_AREA', 'SE_ANNO_CAD_DATA',\n",
       "       'LATITUDE', 'LONGITUDE', 'ACTIVE_RES_UNIT_COUNT', 'RES_TYPE',\n",
       "       'ACTIVE_RES_OCCUPANCY_COUNT', 'WARD_2002', 'WARD_2012', 'ANC_2002',\n",
       "       'ANC_2012', 'SMD_2002', 'SMD_2012'],\n",
       "      dtype='object')"
      ]
     },
     "execution_count": 3,
     "metadata": {},
     "output_type": "execute_result"
    }
   ],
   "source": [
    "df.columns"
   ]
  },
  {
   "cell_type": "code",
   "execution_count": 5,
   "metadata": {
    "collapsed": true
   },
   "outputs": [],
   "source": [
    "df = df[['ADDRESS_ID', 'LATITUDE', 'LONGITUDE']]\n",
    "df['geometry'] = [Point(xy) for xy in zip(df.LONGITUDE.apply(float), df.LATITUDE.apply(float))]"
   ]
  },
  {
   "cell_type": "code",
   "execution_count": 6,
   "metadata": {
    "collapsed": true
   },
   "outputs": [],
   "source": [
    "bl_16 = pd.read_csv('https://opendata.arcgis.com/datasets/82ab09c9541b4eb8ba4b537e131998ce_22.csv',\n",
    "                 encoding = 'utf-8', low_memory= False)\n",
    "bl_15 = pd.read_csv('https://opendata.arcgis.com/datasets/4c4d6b4defdf4561b737a594b6f2b0dd_23.csv',\n",
    "                 encoding = 'utf-8', low_memory= False)\n",
    "bl_14 = pd.read_csv('https://opendata.arcgis.com/datasets/d7aa6d3a3fdc42c4b354b9e90da443b7_1.csv',\n",
    "                 encoding = 'utf-8', low_memory= False)\n",
    "bl_13 = pd.read_csv('https://opendata.arcgis.com/datasets/a8434614d90e416b80fbdfe2cb2901d8_2.csv',\n",
    "                 encoding = 'utf-8', low_memory= False)\n",
    "bl_12 = pd.read_csv('https://opendata.arcgis.com/datasets/c4368a66ce65455595a211d530facc54_3.csv',\n",
    "                 encoding = 'utf-8', low_memory= False)\n",
    "\n",
    "sets = [bl_12, bl_13, bl_14, bl_15, bl_16]\n",
    "\n",
    "sets[1].columns\n",
    "\n",
    "big = sets[0]\n",
    "for i in range(1, 5):\n",
    "    big = big.append(sets[i])\n",
    "\n",
    "big.LICENSE_START_DATE = pd.to_datetime(big.LICENSE_START_DATE)\n",
    "\n",
    "big.sort_values('LICENSE_START_DATE')\n",
    "\n",
    "big['month'] = 0\n",
    "big['month'] = big['LICENSE_START_DATE'].dt.year + (big['LICENSE_START_DATE'].dt.month/100)\n",
    "big = big.dropna(subset=['month'])\n",
    "big_group = big.set_index(['MARADDRESSREPOSITORYID','month'])\n",
    "big_group = big_group.sort_index(ascending=True)\n",
    "big_group.reset_index(inplace=True)\n",
    "#big_group.month.value_counts(dropna=False)"
   ]
  },
  {
   "cell_type": "code",
   "execution_count": null,
   "metadata": {},
   "outputs": [],
   "source": [
    "big_group"
   ]
  },
  {
   "cell_type": "code",
   "execution_count": 7,
   "metadata": {},
   "outputs": [
    {
     "name": "stderr",
     "output_type": "stream",
     "text": [
      "/opt/conda/lib/python3.6/site-packages/ipykernel_launcher.py:21: SettingWithCopyWarning: \n",
      "A value is trying to be set on a copy of a slice from a DataFrame\n",
      "\n",
      "See the caveats in the documentation: http://pandas.pydata.org/pandas-docs/stable/indexing.html#indexing-view-versus-copy\n"
     ]
    },
    {
     "name": "stdout",
     "output_type": "stream",
     "text": [
      "(8808060, 6)\n"
     ]
    },
    {
     "data": {
      "text/plain": [
       "0    8773024\n",
       "1      35036\n",
       "Name: active_flag, dtype: int64"
      ]
     },
     "execution_count": 7,
     "metadata": {},
     "output_type": "execute_result"
    }
   ],
   "source": [
    "flag_df = pd.DataFrame()\n",
    "\n",
    "flag_df['t']= [2012+(i/100) for i in range(1, 13, 1)] + [2013+(i/100) for i in range(1, 13, 1)] + [2014+(i/100) for i in range(1, 13, 1)] + [2015+(i/100) for i in range(1, 13, 1)] + [2016+(i/100) for i in range(1, 13, 1)]\n",
    "flag_df.head()\n",
    "\n",
    "df['t'] = flag_df['t'].loc[0]\n",
    "flag= df\n",
    "#flag.shape\n",
    "\n",
    "for i in range(1, 60):\n",
    "    df['t']= flag_df['t'].loc[i]\n",
    "    flag = flag.append(df)\n",
    "#flag.shape\n",
    "\n",
    "#flag.shape[0]/146801\n",
    "\n",
    "flag['active_flag'] = 0\n",
    "\n",
    "for i in flag.t.unique():\n",
    "    check = big_group[big_group['month']== i]\n",
    "    flag['active_flag'][(flag.t == i) & (flag.ADDRESS_ID.isin(check['MARADDRESSREPOSITORYID']))]=1\n",
    "\n",
    "print(flag.shape)\n",
    "flag.active_flag.value_counts()"
   ]
  },
  {
   "cell_type": "code",
   "execution_count": 8,
   "metadata": {},
   "outputs": [
    {
     "data": {
      "text/plain": [
       "Index(['ADDRESS_ID', 'LATITUDE', 'LONGITUDE', 'geometry', 't', 'active_flag'], dtype='object')"
      ]
     },
     "execution_count": 8,
     "metadata": {},
     "output_type": "execute_result"
    }
   ],
   "source": [
    "#flag.to_csv('flagsactivate.csv', encoding='utf-8')\n",
    "\n",
    "#flag = pd.read_csv('flagsactivate.csv', encoding='utf-8', low_memory=False)\n",
    "\n",
    "#flag = flag[flag.columns[1:]]\n",
    "\n",
    "flag.columns"
   ]
  },
  {
   "cell_type": "code",
   "execution_count": 9,
   "metadata": {},
   "outputs": [],
   "source": [
    "from shapely.geometry import Point\n",
    "toPlot = list(flag.t.unique())\n",
    "#flag = flag.dropna(subset=['LATITUDE', 'LONGITUDE'])"
   ]
  },
  {
   "cell_type": "code",
   "execution_count": null,
   "metadata": {},
   "outputs": [],
   "source": [
    "def plotterFlags(i):\n",
    "    fig, ax = plt.subplots()\n",
    "    flag_i = flag[flag.t== i]\n",
    "    geometry = flag_i['geometry']\n",
    "    crs = {'init': 'epsg:4326'}\n",
    "    points = gpd.GeoDataFrame(flag_i, crs=crs, geometry=geometry)\n",
    "\n",
    "\n",
    "    #census.plot(ax=ax, color='red')\n",
    "    points[points['active_flag']==1].plot(ax=ax, color='red', marker='.', markersize=5)\n",
    "    ax.set_aspect('equal')  # remember, this is what we need to do in order to not have a crazy wide map.\n",
    "    plt.savefig('./plots/fig_'+ str(i) +'.png')\n",
    "\n",
    "for i in range(0, 59):\n",
    "    plotterFlags(toPlot[i])"
   ]
  },
  {
   "cell_type": "code",
   "execution_count": 10,
   "metadata": {
    "collapsed": true
   },
   "outputs": [],
   "source": [
    "crs = {'init': 'epsg:4326'}\n",
    "flag_gdf = gpd.GeoDataFrame(flag, crs=crs, geometry=flag['geometry'])"
   ]
  },
  {
   "cell_type": "code",
   "execution_count": 11,
   "metadata": {},
   "outputs": [],
   "source": [
    "flag_gdf = flag_gdf[['ADDRESS_ID', 'LATITUDE', 'LONGITUDE', 't', 'active_flag',\n",
    "       'geometry']]"
   ]
  },
  {
   "cell_type": "code",
   "execution_count": null,
   "metadata": {},
   "outputs": [],
   "source": [
    "anc = gpd.read_file(\n",
    "    '../data/dc_2010_block_shapefiles/tl_2016_11_tabblock10.shp',\n",
    "    crs='EPSG:4326')"
   ]
  },
  {
   "cell_type": "code",
   "execution_count": null,
   "metadata": {},
   "outputs": [],
   "source": [
    "##! wget https://opendata.arcgis.com/datasets/6969dd63c5cb4d6aa32f15effb8311f3_8.geojson -O ../data/census.geojson"
   ]
  },
  {
   "cell_type": "code",
   "execution_count": 12,
   "metadata": {},
   "outputs": [
    {
     "data": {
      "text/plain": [
       "Index(['OBJECTID', 'TRACT', 'GEOID', 'P0010001', 'P0010002', 'P0010003',\n",
       "       'P0010004', 'P0010005', 'P0010006', 'P0010007', 'P0010008', 'OP000001',\n",
       "       'OP000002', 'OP000003', 'OP000004', 'P0020002', 'P0020005', 'P0020006',\n",
       "       'P0020007', 'P0020008', 'P0020009', 'P0020010', 'OP00005', 'OP00006',\n",
       "       'OP00007', 'OP00008', 'P0030001', 'P0030003', 'P0030004', 'P0030005',\n",
       "       'P0030006', 'P0030007', 'P0030008', 'OP00009', 'OP00010', 'OP00011',\n",
       "       'OP00012', 'P0040002', 'P0040005', 'P0040006', 'P0040007', 'P0040008',\n",
       "       'P0040009', 'P0040010', 'OP000013', 'OP000014', 'OP000015', 'OP000016',\n",
       "       'H0010001', 'H0010002', 'H0010003', 'ACRES', 'SQ_MILES', 'Shape_Length',\n",
       "       'Shape_Area', 'FAGI_TOTAL_2010', 'FAGI_MEDIAN_2010', 'FAGI_TOTAL_2013',\n",
       "       'FAGI_MEDIAN_2013', 'geometry'],\n",
       "      dtype='object')"
      ]
     },
     "execution_count": 12,
     "metadata": {},
     "output_type": "execute_result"
    }
   ],
   "source": [
    "census = gpd.read_file(\"census.geojson\")\n",
    "census.columns"
   ]
  },
  {
   "cell_type": "code",
   "execution_count": null,
   "metadata": {
    "collapsed": true
   },
   "outputs": [],
   "source": [
    "flag_gdf.columns"
   ]
  },
  {
   "cell_type": "code",
   "execution_count": null,
   "metadata": {
    "collapsed": true
   },
   "outputs": [],
   "source": [
    "census_flags = gpd.sjoin(flag_gdf, census, how='left', op='intersects')\n",
    "census_flags.columns\n",
    "#Kernel dies right away!"
   ]
  }
 ],
 "metadata": {
  "anaconda-cloud": {},
  "kernelspec": {
   "display_name": "Python 3",
   "language": "python",
   "name": "python3"
  },
  "language_info": {
   "codemirror_mode": {
    "name": "ipython",
    "version": 3
   },
   "file_extension": ".py",
   "mimetype": "text/x-python",
   "name": "python",
   "nbconvert_exporter": "python",
   "pygments_lexer": "ipython3",
   "version": "3.6.2"
  }
 },
 "nbformat": 4,
 "nbformat_minor": 1
}
